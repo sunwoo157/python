{
 "cells": [
  {
   "cell_type": "code",
   "execution_count": 1,
   "id": "8864dd0c",
   "metadata": {},
   "outputs": [
    {
     "name": "stdout",
     "output_type": "stream",
     "text": [
      "fibo( 0) =   1\n",
      "fibo( 1) =   1\n",
      "fibo( 2) =   2\n",
      "fibo( 3) =   3\n",
      "fibo( 4) =   5\n",
      "fibo( 5) =   8\n",
      "fibo( 6) =  13\n",
      "fibo( 7) =  21\n",
      "fibo( 8) =  34\n",
      "fibo( 9) =  55\n",
      "fibo(10) =  89\n",
      "fibo(11) = 144\n",
      "fibo(12) = 233\n",
      "fibo(13) = 377\n",
      "fibo(14) = 610\n",
      "fibo(15) = 987\n"
     ]
    }
   ],
   "source": [
    "def fibo(n):\n",
    "    if n <= 1:\n",
    "        return 1\n",
    "    else:\n",
    "        return fibo(n-1) + fibo(n-2)\n",
    "    \n",
    "for i in range(16):\n",
    "    print(\"fibo({:2}) = {:3}\".format(i, fibo(i)))"
   ]
  },
  {
   "cell_type": "code",
   "execution_count": 9,
   "id": "9dae1253",
   "metadata": {},
   "outputs": [
    {
     "name": "stdout",
     "output_type": "stream",
     "text": [
      "1951년 10월 10일\n",
      "None\n"
     ]
    }
   ],
   "source": [
    "def format_birthdate(id_front6):\n",
    "    year = int(id_front6[:2])\n",
    "    month = int(id_front6[2:4])\n",
    "    day = int(id_front6[4:6])\n",
    "    \n",
    "    if 0 <= year <= 49:\n",
    "        full_year = 2000 + year\n",
    "    else: \n",
    "        full_year = 1900 + year\n",
    "    print(f\"{full_year}년 {month:02}월 {day:02}일\")\n",
    "    \n",
    "print(format_birthdate(\"511010\"))"
   ]
  },
  {
   "cell_type": "code",
   "execution_count": 10,
   "id": "09fcea10",
   "metadata": {},
   "outputs": [
    {
     "name": "stdout",
     "output_type": "stream",
     "text": [
      "세 자리의 암스트롱 수 : 153 370 371 407 "
     ]
    }
   ],
   "source": [
    "print(\"세 자리의 암스트롱 수 : \", end='')\n",
    "\n",
    "for num in range(100, 1000):\n",
    "    a = num // 100\n",
    "    b = (num // 10) % 10\n",
    "    c = num % 10\n",
    "    \n",
    "    if (a**3 + b**3 + c**3) == num:\n",
    "        print(num, end=' ')"
   ]
  },
  {
   "cell_type": "code",
   "execution_count": 32,
   "id": "3009573d",
   "metadata": {},
   "outputs": [
    {
     "name": "stdout",
     "output_type": "stream",
     "text": [
      "주어진 문자열 :\n",
      "Park(Java city), Kim(C city), Kang(Bython city), Lee(Bython city), Hong(Ruby city), Cho(Bython city), Koo(C city), Ryu(C++ city)\n",
      "\n",
      "수정된 문자열 :\n",
      "Park(Java city), Kim(C city), Kang(Python city), Lee(Python city), Hong(Ruby city), Cho(Python city), Koo(C city), Ryu(C++ city)\n",
      "\n",
      "Bython 문자열은 모두 3번 수정했습니다.\n"
     ]
    }
   ],
   "source": [
    "text = \"\"\"Park(Java city), Kim(C city), Kang(Bython city), Lee(Bython city), Hong(Ruby city), Cho(Bython city), Koo(C city), Ryu(C++ city)\"\"\"\n",
    "\n",
    "print('주어진 문자열 :')\n",
    "print(text)\n",
    "\n",
    "count = text.count(\"Bython\")\n",
    "modified_text = text.replace(\"Bython\", \"Python\")\n",
    "\n",
    "print(\"\\n수정된 문자열 :\")\n",
    "print(modified_text)\n",
    "print(f\"\\nBython 문자열은 모두 {count}번 수정했습니다.\")"
   ]
  }
 ],
 "metadata": {
  "kernelspec": {
   "display_name": "Python 3",
   "language": "python",
   "name": "python3"
  },
  "language_info": {
   "codemirror_mode": {
    "name": "ipython",
    "version": 3
   },
   "file_extension": ".py",
   "mimetype": "text/x-python",
   "name": "python",
   "nbconvert_exporter": "python",
   "pygments_lexer": "ipython3",
   "version": "3.13.1"
  }
 },
 "nbformat": 4,
 "nbformat_minor": 5
}
